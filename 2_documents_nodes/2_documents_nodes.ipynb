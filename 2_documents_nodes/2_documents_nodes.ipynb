{
  "cells": [
    {
      "cell_type": "code",
      "execution_count": 2,
      "metadata": {
        "id": "jbX3shl69b5u"
      },
      "outputs": [],
      "source": [
        "%%capture\n",
        "!pip install llama-index\n",
        "!pip install llama-index-llms-groq\n",
        "!pip install llama-index-embeddings-huggingface\n",
        "!pip install llama-parse"
      ]
    },
    {
      "cell_type": "code",
      "source": [
        "import os\n",
        "\n",
        "os.environ[\"GROQ_API_KEY\"] = \"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\""
      ],
      "metadata": {
        "id": "5NAF71hx-HnG"
      },
      "execution_count": 3,
      "outputs": []
    },
    {
      "cell_type": "code",
      "source": [
        "from llama_index.llms.groq import Groq\n",
        "\n",
        "llm = Groq(model=\"llama3-8b-8192\")\n",
        "llm_70b = Groq(model=\"llama3-70b-8192\")"
      ],
      "metadata": {
        "id": "ogp-xmIO9tMx"
      },
      "execution_count": 4,
      "outputs": []
    },
    {
      "cell_type": "markdown",
      "metadata": {
        "id": "kUnzgCP-DwSs"
      },
      "source": [
        "# LlamaIndex Bottoms-Up Development - Documents and Nodes\n",
        "In order to answer questions about the LlamaIndex docs, we first need to load them!\n",
        "\n",
        "A majority of our documentation is in markdown format. For the sake of scope, we will ONLY worry about markdown files for now.\n",
        "\n",
        "When parsing these files, there are a few things we might want to keep track of\n",
        "\n",
        "- Current header (and header hierarchy!)\n",
        "- Code blocks\n",
        "- Text\n",
        "- Source file names\n",
        "\n",
        "While LlamaIndex does have a built-in markdown loader, we can write our own to fit our requirements exactly! Loaders are not magic -- they just read files and create documents. So building our own is easy!\n",
        "\n",
        "We have provided an implementation of a custom markdown loaded in the source code. Let's test it out to see how it works!"
      ]
    },
    {
      "cell_type": "code",
      "execution_count": 5,
      "metadata": {
        "id": "mDajHgdcDwSw"
      },
      "outputs": [],
      "source": [
        "import os\n",
        "import sys\n",
        "import llama_index.\n",
        "sys.path.append(os.path.join(os.getcwd(), '..'))"
      ]
    },
    {
      "cell_type": "code",
      "source": [
        "# Step 1: Clone the repository into the Colab environment\n",
        "!git clone https://github.com/BoxOfCereal/llama_docs_bot_groq.git /content/llama_docs_bot_groq\n",
        "\n",
        "# Step 2: Modify the `load_markdown_docs` function to point to the cloned repository directory\n",
        "def load_markdown_docs(filepath):\n",
        "    \"\"\"Load markdown docs from a directory, excluding all other file types.\"\"\"\n",
        "    loader = SimpleDirectoryReader(\n",
        "        input_dir=filepath,\n",
        "        exclude=[\"*.rst\", \"*.ipynb\", \"*.py\", \"*.bat\", \"*.txt\", \"*.png\", \"*.jpg\", \"*.jpeg\", \"*.csv\", \"*.html\", \"*.js\", \"*.css\", \"*.pdf\", \"*.json\"],\n",
        "        file_extractor={\".md\": MarkdownDocsReader()},\n",
        "        recursive=True\n",
        "    )\n",
        "    return loader.load_data()\n",
        "\n",
        "# Step 3: Load documents from specific folders within the cloned repository\n",
        "# Adjust file paths to point to the cloned repository's structure in Colab\n",
        "getting_started_docs = load_markdown_docs(\"/content/llama_docs_bot_groq/docs/getting_started\")\n",
        "community_docs = load_markdown_docs(\"/content/llama_docs_bot_groq/docs/community\")\n",
        "data_docs = load_markdown_docs(\"/content/llama_docs_bot_groq/docs/core_modules/data_modules\")\n",
        "agent_docs = load_markdown_docs(\"/content/llama_docs_bot_groq/docs/core_modules/agent_modules\")\n",
        "model_docs = load_markdown_docs(\"/content/llama_docs_bot_groq/docs/core_modules/model_modules\")\n",
        "query_docs = load_markdown_docs(\"/content/llama_docs_bot_groq/docs/core_modules/query_modules\")\n",
        "supporting_docs = load_markdown_docs(\"/content/llama_docs_bot_groq/docs/core_modules/supporting_modules\")\n",
        "tutorials_docs = load_markdown_docs(\"/content/llama_docs_bot_groq/docs/end_to_end_tutorials\")\n",
        "contributing_docs = load_markdown_docs(\"/content/llama_docs_bot_groq/docs/development\")\n"
      ],
      "metadata": {
        "id": "jnAE-lvIFYOT",
        "outputId": "e9dddcf0-d881-4c90-be29-aeea090a4ecb",
        "colab": {
          "base_uri": "https://localhost:8080/",
          "height": 373
        }
      },
      "execution_count": 6,
      "outputs": [
        {
          "output_type": "stream",
          "name": "stdout",
          "text": [
            "fatal: destination path '/content/llama_docs_bot_groq' already exists and is not an empty directory.\n"
          ]
        },
        {
          "output_type": "error",
          "ename": "NameError",
          "evalue": "name 'SimpleDirectoryReader' is not defined",
          "traceback": [
            "\u001b[0;31m---------------------------------------------------------------------------\u001b[0m",
            "\u001b[0;31mNameError\u001b[0m                                 Traceback (most recent call last)",
            "\u001b[0;32m<ipython-input-6-da48d67704d1>\u001b[0m in \u001b[0;36m<cell line: 17>\u001b[0;34m()\u001b[0m\n\u001b[1;32m     15\u001b[0m \u001b[0;31m# Step 3: Load documents from specific folders within the cloned repository\u001b[0m\u001b[0;34m\u001b[0m\u001b[0;34m\u001b[0m\u001b[0m\n\u001b[1;32m     16\u001b[0m \u001b[0;31m# Adjust file paths to point to the cloned repository's structure in Colab\u001b[0m\u001b[0;34m\u001b[0m\u001b[0;34m\u001b[0m\u001b[0m\n\u001b[0;32m---> 17\u001b[0;31m \u001b[0mgetting_started_docs\u001b[0m \u001b[0;34m=\u001b[0m \u001b[0mload_markdown_docs\u001b[0m\u001b[0;34m(\u001b[0m\u001b[0;34m\"/content/llama_docs_bot_groq/docs/getting_started\"\u001b[0m\u001b[0;34m)\u001b[0m\u001b[0;34m\u001b[0m\u001b[0;34m\u001b[0m\u001b[0m\n\u001b[0m\u001b[1;32m     18\u001b[0m \u001b[0mcommunity_docs\u001b[0m \u001b[0;34m=\u001b[0m \u001b[0mload_markdown_docs\u001b[0m\u001b[0;34m(\u001b[0m\u001b[0;34m\"/content/llama_docs_bot_groq/docs/community\"\u001b[0m\u001b[0;34m)\u001b[0m\u001b[0;34m\u001b[0m\u001b[0;34m\u001b[0m\u001b[0m\n\u001b[1;32m     19\u001b[0m \u001b[0mdata_docs\u001b[0m \u001b[0;34m=\u001b[0m \u001b[0mload_markdown_docs\u001b[0m\u001b[0;34m(\u001b[0m\u001b[0;34m\"/content/llama_docs_bot_groq/docs/core_modules/data_modules\"\u001b[0m\u001b[0;34m)\u001b[0m\u001b[0;34m\u001b[0m\u001b[0;34m\u001b[0m\u001b[0m\n",
            "\u001b[0;32m<ipython-input-6-da48d67704d1>\u001b[0m in \u001b[0;36mload_markdown_docs\u001b[0;34m(filepath)\u001b[0m\n\u001b[1;32m      5\u001b[0m \u001b[0;32mdef\u001b[0m \u001b[0mload_markdown_docs\u001b[0m\u001b[0;34m(\u001b[0m\u001b[0mfilepath\u001b[0m\u001b[0;34m)\u001b[0m\u001b[0;34m:\u001b[0m\u001b[0;34m\u001b[0m\u001b[0;34m\u001b[0m\u001b[0m\n\u001b[1;32m      6\u001b[0m     \u001b[0;34m\"\"\"Load markdown docs from a directory, excluding all other file types.\"\"\"\u001b[0m\u001b[0;34m\u001b[0m\u001b[0;34m\u001b[0m\u001b[0m\n\u001b[0;32m----> 7\u001b[0;31m     loader = SimpleDirectoryReader(\n\u001b[0m\u001b[1;32m      8\u001b[0m         \u001b[0minput_dir\u001b[0m\u001b[0;34m=\u001b[0m\u001b[0mfilepath\u001b[0m\u001b[0;34m,\u001b[0m\u001b[0;34m\u001b[0m\u001b[0;34m\u001b[0m\u001b[0m\n\u001b[1;32m      9\u001b[0m         \u001b[0mexclude\u001b[0m\u001b[0;34m=\u001b[0m\u001b[0;34m[\u001b[0m\u001b[0;34m\"*.rst\"\u001b[0m\u001b[0;34m,\u001b[0m \u001b[0;34m\"*.ipynb\"\u001b[0m\u001b[0;34m,\u001b[0m \u001b[0;34m\"*.py\"\u001b[0m\u001b[0;34m,\u001b[0m \u001b[0;34m\"*.bat\"\u001b[0m\u001b[0;34m,\u001b[0m \u001b[0;34m\"*.txt\"\u001b[0m\u001b[0;34m,\u001b[0m \u001b[0;34m\"*.png\"\u001b[0m\u001b[0;34m,\u001b[0m \u001b[0;34m\"*.jpg\"\u001b[0m\u001b[0;34m,\u001b[0m \u001b[0;34m\"*.jpeg\"\u001b[0m\u001b[0;34m,\u001b[0m \u001b[0;34m\"*.csv\"\u001b[0m\u001b[0;34m,\u001b[0m \u001b[0;34m\"*.html\"\u001b[0m\u001b[0;34m,\u001b[0m \u001b[0;34m\"*.js\"\u001b[0m\u001b[0;34m,\u001b[0m \u001b[0;34m\"*.css\"\u001b[0m\u001b[0;34m,\u001b[0m \u001b[0;34m\"*.pdf\"\u001b[0m\u001b[0;34m,\u001b[0m \u001b[0;34m\"*.json\"\u001b[0m\u001b[0;34m]\u001b[0m\u001b[0;34m,\u001b[0m\u001b[0;34m\u001b[0m\u001b[0;34m\u001b[0m\u001b[0m\n",
            "\u001b[0;31mNameError\u001b[0m: name 'SimpleDirectoryReader' is not defined"
          ]
        }
      ]
    },
    {
      "cell_type": "code",
      "execution_count": null,
      "metadata": {
        "id": "xEsMGNRTDwSz"
      },
      "outputs": [],
      "source": [
        "# Make our printing look nice\n",
        "from llama_index.schema import MetadataMode"
      ]
    },
    {
      "cell_type": "code",
      "execution_count": null,
      "metadata": {
        "id": "e98fvGTcDwS0"
      },
      "outputs": [],
      "source": [
        "print(agent_docs[5].get_content(metadata_mode=MetadataMode.ALL))"
      ]
    },
    {
      "cell_type": "code",
      "execution_count": null,
      "metadata": {
        "id": "KZyoYr83DwS1"
      },
      "outputs": [],
      "source": [
        "print(agent_docs[0].metadata)"
      ]
    },
    {
      "cell_type": "markdown",
      "metadata": {
        "id": "GV8uC-vfDwS2"
      },
      "source": [
        "Looks not bad! We can see that we have metadata, as well as nicely formatted content.\n",
        "\n",
        "But, we can improve the formatting even further! We can provide better templating, so that the LLM and embedding models can get a better idea of what they are reading."
      ]
    },
    {
      "cell_type": "code",
      "execution_count": null,
      "metadata": {
        "id": "YZsT_8v6DwS2"
      },
      "outputs": [],
      "source": [
        "text_template = \"Content Metadata:\\n{metadata_str}\\n\\nContent:\\n{content}\"\n",
        "\n",
        "metadata_template = \"{key}: {value},\"\n",
        "metadata_seperator= \" \"\n",
        "\n",
        "for doc in agent_docs:\n",
        "    doc.text_template = text_template\n",
        "    doc.metadata_template = metadata_template\n",
        "    doc.metadata_seperator = metadata_seperator"
      ]
    },
    {
      "cell_type": "code",
      "execution_count": null,
      "metadata": {
        "id": "fhAgbltlDwS3"
      },
      "outputs": [],
      "source": [
        "print(agent_docs[0].get_content(metadata_mode=MetadataMode.ALL))"
      ]
    },
    {
      "cell_type": "markdown",
      "metadata": {
        "id": "LZ5i9oiuDwS4"
      },
      "source": [
        "### Advanced Customization\n",
        "Going even further with metadata, we can also customize which metadata fields will be seen by both the embedding model and LLM."
      ]
    },
    {
      "cell_type": "code",
      "execution_count": null,
      "metadata": {
        "id": "fu2WdLOcDwS5"
      },
      "outputs": [],
      "source": [
        "# Hide the File Name from the LLM\n",
        "agent_docs[0].excluded_llm_metadata_keys = [\"File Name\"]\n",
        "print(agent_docs[0].get_content(metadata_mode=MetadataMode.LLM))"
      ]
    },
    {
      "cell_type": "code",
      "execution_count": null,
      "metadata": {
        "id": "Ff5eFirxDwS6"
      },
      "outputs": [],
      "source": [
        "# Hide the File Name from the embedding model\n",
        "agent_docs[0].excluded_embed_metadata_keys = [\"File Name\"]\n",
        "print(agent_docs[0].get_content(metadata_mode=MetadataMode.EMBED))"
      ]
    },
    {
      "cell_type": "markdown",
      "metadata": {
        "id": "qKFd-Vj6DwS6"
      },
      "source": [
        "# Conclusion\n",
        "In this notebook, we covered how to use a custom data loader, as well as how to customize the text representations of your data when including metadata for both LLMs and embedding models."
      ]
    }
  ],
  "metadata": {
    "kernelspec": {
      "display_name": "venv",
      "language": "python",
      "name": "python3"
    },
    "language_info": {
      "codemirror_mode": {
        "name": "ipython",
        "version": 3
      },
      "file_extension": ".py",
      "mimetype": "text/x-python",
      "name": "python",
      "nbconvert_exporter": "python",
      "pygments_lexer": "ipython3",
      "version": "3.9.6"
    },
    "orig_nbformat": 4,
    "colab": {
      "provenance": []
    }
  },
  "nbformat": 4,
  "nbformat_minor": 0
}